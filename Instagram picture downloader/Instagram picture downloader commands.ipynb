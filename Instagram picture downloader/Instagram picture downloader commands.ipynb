{
 "cells": [
  {
   "cell_type": "markdown",
   "metadata": {},
   "source": [
    "# Instagram photo downloader command"
   ]
  },
  {
   "cell_type": "markdown",
   "metadata": {},
   "source": [
    "#Instagram Photo Downloader\n",
    "\n",
    "instaloader profile username\n",
    "\n",
    "instaloader –help\n",
    "\n",
    "instaloader --no-videos --comments --geotags --no-metadata-json --no-compress-json profile username\n",
    "\n",
    "instaloader --no-videos --comments --geotags --no-metadata-json --no-compress-json –login username profile jeeva_jiivi\n",
    "\n",
    "instaloader --no-videos --comments --geotags --no-metadata-json --no-compress-json –login username --password password profile jeeva_jiivi"
   ]
  },
  {
   "cell_type": "code",
   "execution_count": null,
   "metadata": {},
   "outputs": [],
   "source": []
  }
 ],
 "metadata": {
  "kernelspec": {
   "display_name": "Python 3",
   "language": "python",
   "name": "python3"
  },
  "language_info": {
   "codemirror_mode": {
    "name": "ipython",
    "version": 3
   },
   "file_extension": ".py",
   "mimetype": "text/x-python",
   "name": "python",
   "nbconvert_exporter": "python",
   "pygments_lexer": "ipython3",
   "version": "3.8.5"
  }
 },
 "nbformat": 4,
 "nbformat_minor": 4
}
