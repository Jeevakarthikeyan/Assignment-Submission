{
 "cells": [
  {
   "cell_type": "markdown",
   "metadata": {},
   "source": [
    "# Sending Email from python"
   ]
  },
  {
   "cell_type": "code",
   "execution_count": 2,
   "metadata": {},
   "outputs": [],
   "source": [
    "import smtplib #Simple mail transfer protocol"
   ]
  },
  {
   "cell_type": "code",
   "execution_count": null,
   "metadata": {},
   "outputs": [],
   "source": [
    "#smtp session:\n",
    "s = smtplib.SMTP(\"smtp.gmail.com\",587) #port transferring\n",
    "\n",
    "#tls-transfer ;license security\n",
    "s.starttls()\n",
    "s.login(\"jeevakarthikeyan3003@gmail.com\",\"jldrnhtkmpbwdnze\") #your mail ID\n",
    "\n",
    "msg = input(\"Enter your message: \")\n",
    "for i in range(2):\n",
    "    s.sendmail(\"jeevakarthikeyan3003@gmail.com\",\"jeeva3003@gmail.com\",msg) #target value\n",
    "    print(msg)\n",
    "s.quit()"
   ]
  },
  {
   "cell_type": "code",
   "execution_count": null,
   "metadata": {},
   "outputs": [],
   "source": []
  },
  {
   "cell_type": "code",
   "execution_count": null,
   "metadata": {},
   "outputs": [],
   "source": []
  },
  {
   "cell_type": "code",
   "execution_count": null,
   "metadata": {},
   "outputs": [],
   "source": []
  }
 ],
 "metadata": {
  "kernelspec": {
   "display_name": "Python 3",
   "language": "python",
   "name": "python3"
  },
  "language_info": {
   "codemirror_mode": {
    "name": "ipython",
    "version": 3
   },
   "file_extension": ".py",
   "mimetype": "text/x-python",
   "name": "python",
   "nbconvert_exporter": "python",
   "pygments_lexer": "ipython3",
   "version": "3.8.5"
  }
 },
 "nbformat": 4,
 "nbformat_minor": 4
}
