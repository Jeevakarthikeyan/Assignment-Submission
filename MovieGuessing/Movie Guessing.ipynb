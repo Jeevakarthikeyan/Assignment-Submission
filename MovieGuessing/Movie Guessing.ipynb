{
 "cells": [
  {
   "cell_type": "markdown",
   "metadata": {},
   "source": [
    "# Movie Guessing Name"
   ]
  },
  {
   "cell_type": "code",
   "execution_count": 1,
   "metadata": {},
   "outputs": [
    {
     "name": "stdout",
     "output_type": "stream",
     "text": [
      "working\n"
     ]
    }
   ],
   "source": [
    "#Firebase Connectivity\n",
    "import firebase_admin\n",
    "from firebase_admin import credentials\n",
    "\n",
    "cred = credentials.Certificate(\"myproject-e8ee2-firebase-adminsdk-guy32-0d2ff6e66c.json\")\n",
    "firebase_admin.initialize_app(cred)\n",
    "print(\"working\")"
   ]
  },
  {
   "cell_type": "code",
   "execution_count": 5,
   "metadata": {},
   "outputs": [
    {
     "name": "stdout",
     "output_type": "stream",
     "text": [
      "Requirement already satisfied: firebase-admin in c:\\users\\elcot\\anaconda3\\lib\\site-packages (4.5.0)\n",
      "Requirement already satisfied: google-cloud-storage>=1.18.0 in c:\\users\\elcot\\anaconda3\\lib\\site-packages (from firebase-admin) (1.35.0)\n",
      "Requirement already satisfied: google-cloud-firestore>=1.4.0 in c:\\users\\elcot\\anaconda3\\lib\\site-packages (from firebase-admin) (2.0.2)\n",
      "Requirement already satisfied: cachecontrol>=0.12.6 in c:\\users\\elcot\\anaconda3\\lib\\site-packages (from firebase-admin) (0.12.6)\n",
      "Requirement already satisfied: google-api-core[grpc]<2.0.0dev,>=1.14.0 in c:\\users\\elcot\\anaconda3\\lib\\site-packages (from firebase-admin) (1.24.1)\n",
      "Requirement already satisfied: google-api-python-client>=1.7.8 in c:\\users\\elcot\\anaconda3\\lib\\site-packages (from firebase-admin) (1.12.8)\n",
      "Requirement already satisfied: requests in c:\\users\\elcot\\anaconda3\\lib\\site-packages (from cachecontrol>=0.12.6->firebase-admin) (2.25.1)\n",
      "Requirement already satisfied: msgpack>=0.5.2 in c:\\users\\elcot\\anaconda3\\lib\\site-packages (from cachecontrol>=0.12.6->firebase-admin) (1.0.1)\n",
      "Requirement already satisfied: googleapis-common-protos<2.0dev,>=1.6.0 in c:\\users\\elcot\\anaconda3\\lib\\site-packages (from google-api-core[grpc]<2.0.0dev,>=1.14.0->firebase-admin) (1.52.0)\n",
      "Requirement already satisfied: protobuf>=3.12.0 in c:\\users\\elcot\\anaconda3\\lib\\site-packages (from google-api-core[grpc]<2.0.0dev,>=1.14.0->firebase-admin) (3.14.0)\n",
      "Requirement already satisfied: six>=1.13.0 in c:\\users\\elcot\\anaconda3\\lib\\site-packages (from google-api-core[grpc]<2.0.0dev,>=1.14.0->firebase-admin) (1.15.0)\n",
      "Requirement already satisfied: pytz in c:\\users\\elcot\\anaconda3\\lib\\site-packages (from google-api-core[grpc]<2.0.0dev,>=1.14.0->firebase-admin) (2020.4)\n",
      "Requirement already satisfied: google-auth<2.0dev,>=1.21.1 in c:\\users\\elcot\\anaconda3\\lib\\site-packages (from google-api-core[grpc]<2.0.0dev,>=1.14.0->firebase-admin) (1.24.0)\n",
      "Requirement already satisfied: setuptools>=34.0.0 in c:\\users\\elcot\\anaconda3\\lib\\site-packages (from google-api-core[grpc]<2.0.0dev,>=1.14.0->firebase-admin) (51.0.0.post20201207)\n",
      "Requirement already satisfied: grpcio<2.0dev,>=1.29.0 in c:\\users\\elcot\\anaconda3\\lib\\site-packages (from google-api-core[grpc]<2.0.0dev,>=1.14.0->firebase-admin) (1.34.0)\n",
      "Requirement already satisfied: httplib2<1dev,>=0.15.0 in c:\\users\\elcot\\anaconda3\\lib\\site-packages (from google-api-python-client>=1.7.8->firebase-admin) (0.18.1)\n",
      "Requirement already satisfied: uritemplate<4dev,>=3.0.0 in c:\\users\\elcot\\anaconda3\\lib\\site-packages (from google-api-python-client>=1.7.8->firebase-admin) (3.0.1)\n",
      "Requirement already satisfied: google-auth-httplib2>=0.0.3 in c:\\users\\elcot\\anaconda3\\lib\\site-packages (from google-api-python-client>=1.7.8->firebase-admin) (0.0.4)\n",
      "Requirement already satisfied: cachetools<5.0,>=2.0.0 in c:\\users\\elcot\\anaconda3\\lib\\site-packages (from google-auth<2.0dev,>=1.21.1->google-api-core[grpc]<2.0.0dev,>=1.14.0->firebase-admin) (4.2.0)\n",
      "Requirement already satisfied: pyasn1-modules>=0.2.1 in c:\\users\\elcot\\anaconda3\\lib\\site-packages (from google-auth<2.0dev,>=1.21.1->google-api-core[grpc]<2.0.0dev,>=1.14.0->firebase-admin) (0.2.8)\n",
      "Requirement already satisfied: rsa<5,>=3.1.4 in c:\\users\\elcot\\anaconda3\\lib\\site-packages (from google-auth<2.0dev,>=1.21.1->google-api-core[grpc]<2.0.0dev,>=1.14.0->firebase-admin) (4.7)\n",
      "Requirement already satisfied: google-cloud-core<2.0dev,>=1.4.1 in c:\\users\\elcot\\anaconda3\\lib\\site-packages (from google-cloud-firestore>=1.4.0->firebase-admin) (1.5.0)\n",
      "Requirement already satisfied: proto-plus>=1.3.0 in c:\\users\\elcot\\anaconda3\\lib\\site-packages (from google-cloud-firestore>=1.4.0->firebase-admin) (1.13.0)\n",
      "Requirement already satisfied: google-resumable-media<2.0dev,>=1.2.0 in c:\\users\\elcot\\anaconda3\\lib\\site-packages (from google-cloud-storage>=1.18.0->firebase-admin) (1.2.0)\n",
      "Requirement already satisfied: google-crc32c<2.0dev,>=1.0 in c:\\users\\elcot\\anaconda3\\lib\\site-packages (from google-resumable-media<2.0dev,>=1.2.0->google-cloud-storage>=1.18.0->firebase-admin) (1.1.0)\n",
      "Requirement already satisfied: pyasn1<0.5.0,>=0.4.6 in c:\\users\\elcot\\anaconda3\\lib\\site-packages (from pyasn1-modules>=0.2.1->google-auth<2.0dev,>=1.21.1->google-api-core[grpc]<2.0.0dev,>=1.14.0->firebase-admin) (0.4.8)\n",
      "Requirement already satisfied: urllib3<1.27,>=1.21.1 in c:\\users\\elcot\\anaconda3\\lib\\site-packages (from requests->cachecontrol>=0.12.6->firebase-admin) (1.26.2)\n",
      "Requirement already satisfied: certifi>=2017.4.17 in c:\\users\\elcot\\anaconda3\\lib\\site-packages (from requests->cachecontrol>=0.12.6->firebase-admin) (2020.12.5)\n",
      "Requirement already satisfied: chardet<5,>=3.0.2 in c:\\users\\elcot\\anaconda3\\lib\\site-packages (from requests->cachecontrol>=0.12.6->firebase-admin) (4.0.0)\n",
      "Requirement already satisfied: idna<3,>=2.5 in c:\\users\\elcot\\anaconda3\\lib\\site-packages (from requests->cachecontrol>=0.12.6->firebase-admin) (2.10)\n",
      "Note: you may need to restart the kernel to use updated packages.\n"
     ]
    }
   ],
   "source": [
    "pip install firebase-admin"
   ]
  },
  {
   "cell_type": "code",
   "execution_count": 2,
   "metadata": {},
   "outputs": [],
   "source": [
    "from firebase_admin import firestore"
   ]
  },
  {
   "cell_type": "code",
   "execution_count": 3,
   "metadata": {},
   "outputs": [
    {
     "name": "stdout",
     "output_type": "stream",
     "text": [
      "done\n"
     ]
    }
   ],
   "source": [
    "db = firestore.client()\n",
    "doc_ref = db.collection(\"movies\").document(\"Bollywood\")\n",
    "\n",
    "data = {\"Name\":[\"war\",\"dil-bechara\",\"kabir-Singh\",\"street-Dancer\",\"kgf\"],\n",
    "        \"collection\":[400,300,200,100,500]}\n",
    "doc_ref.set(data)\n",
    "print(\"done\")"
   ]
  },
  {
   "cell_type": "markdown",
   "metadata": {},
   "source": [
    "# Retrive the dataset from firebase"
   ]
  },
  {
   "cell_type": "code",
   "execution_count": 4,
   "metadata": {},
   "outputs": [],
   "source": [
    "db = firestore.client()\n",
    "\n",
    "docs = db.collection(\"movies\").stream()\n",
    "\n",
    "for d in docs:\n",
    "    #print(d.to_dict())\n",
    "    database = d.to_dict()"
   ]
  },
  {
   "cell_type": "code",
   "execution_count": 5,
   "metadata": {},
   "outputs": [],
   "source": [
    "d = database[\"Name\"]\n"
   ]
  },
  {
   "cell_type": "markdown",
   "metadata": {},
   "source": [
    "# Guess the Movie Name"
   ]
  },
  {
   "cell_type": "code",
   "execution_count": 6,
   "metadata": {},
   "outputs": [
    {
     "name": "stdout",
     "output_type": "stream",
     "text": [
      "Write your Name: jeeva\n",
      "Guess the character: \n",
      "You have 10 chance to get the movie name: \n",
      "Best of luck! jeeva\n",
      "_\n",
      "_\n",
      "_\n",
      "Enter your character: r\n",
      "_\n",
      "_\n",
      "r\n",
      "Enter your character: w\n",
      "w\n",
      "_\n",
      "r\n",
      "Enter your character: a\n",
      "w\n",
      "a\n",
      "r\n",
      "Congratulation you won!!!\n",
      "Movie Name was: war\n"
     ]
    }
   ],
   "source": [
    "import random\n",
    "movie = database[\"Name\"]\n",
    "player = input(\"Write your Name: \")\n",
    "print(\"Guess the character: \")\n",
    "print(\"You have 10 chance to get the movie name: \")\n",
    "print(\"Best of luck!\",player)\n",
    "\n",
    "\n",
    "\n",
    "count = 10\n",
    "\n",
    "guess= \" \"\n",
    "\n",
    "word = random.choice(movie) #war\n",
    "\n",
    "while count>0:\n",
    "    fail = 0\n",
    "    for char in word:\n",
    "        if char in guess:\n",
    "            print(char)\n",
    "        else:\n",
    "            print(\"_\")\n",
    "            fail+=1\n",
    "            \n",
    "            \n",
    "    if fail==0:\n",
    "        print(\"Congratulation you won!!!\")\n",
    "        print(\"Movie Name was:\",word)\n",
    "        break\n",
    "        \n",
    "    g = input(\"Enter your character: \")\n",
    "    \n",
    "    guess = guess+g\n",
    "    \n",
    "    if g not in word:\n",
    "        count = count-1\n",
    "        print(\"Wrong Answer:(\")\n",
    "\n",
    "        print(\"You have \",count,\"more guesses\")\n",
    "        \n",
    "        if count==0:\n",
    "            print(\"You loose ur chance\")\n",
    "\n",
    "\n",
    "        "
   ]
  },
  {
   "cell_type": "code",
   "execution_count": null,
   "metadata": {},
   "outputs": [],
   "source": []
  }
 ],
 "metadata": {
  "kernelspec": {
   "display_name": "Python 3",
   "language": "python",
   "name": "python3"
  },
  "language_info": {
   "codemirror_mode": {
    "name": "ipython",
    "version": 3
   },
   "file_extension": ".py",
   "mimetype": "text/x-python",
   "name": "python",
   "nbconvert_exporter": "python",
   "pygments_lexer": "ipython3",
   "version": "3.8.5"
  }
 },
 "nbformat": 4,
 "nbformat_minor": 4
}
